{
 "cells": [
  {
   "cell_type": "code",
   "execution_count": 10,
   "metadata": {},
   "outputs": [
    {
     "ename": "IndexError",
     "evalue": "index 512 is out of bounds for axis 1 with size 500",
     "output_type": "error",
     "traceback": [
      "\u001b[1;31m---------------------------------------------------------------------------\u001b[0m",
      "\u001b[1;31mIndexError\u001b[0m                                Traceback (most recent call last)",
      "Cell \u001b[1;32mIn[10], line 29\u001b[0m\n\u001b[0;32m     26\u001b[0m (winW,winH) \u001b[39m=\u001b[39m (\u001b[39m128\u001b[39m,\u001b[39m128\u001b[39m)\n\u001b[0;32m     28\u001b[0m \u001b[39mfor\u001b[39;00m resized \u001b[39min\u001b[39;00m pyramid(image,scale\u001b[39m=\u001b[39m\u001b[39m1.5\u001b[39m):\n\u001b[1;32m---> 29\u001b[0m     \u001b[39mfor\u001b[39;00m(x,y,window) \u001b[39min\u001b[39;00m sliding_window(resized,stepSize\u001b[39m=\u001b[39m\u001b[39m32\u001b[39m,windowSize\u001b[39m=\u001b[39m(winW,winH)):\n\u001b[0;32m     30\u001b[0m         \u001b[39mif\u001b[39;00m window\u001b[39m.\u001b[39mshape[\u001b[39m0\u001b[39m] \u001b[39m!=\u001b[39m winH \u001b[39mor\u001b[39;00m window\u001b[39m.\u001b[39mshape[\u001b[39m1\u001b[39m] \u001b[39m!=\u001b[39m winW:\n\u001b[0;32m     31\u001b[0m             \u001b[39mcontinue\u001b[39;00m\n",
      "Cell \u001b[1;32mIn[10], line 22\u001b[0m, in \u001b[0;36msliding_window\u001b[1;34m(image, stepSize, windowSize)\u001b[0m\n\u001b[0;32m     20\u001b[0m \u001b[39mfor\u001b[39;00m y \u001b[39min\u001b[39;00m \u001b[39mrange\u001b[39m(\u001b[39m0\u001b[39m,image\u001b[39m.\u001b[39mshape[\u001b[39m0\u001b[39m],stepSize):\n\u001b[0;32m     21\u001b[0m     \u001b[39mfor\u001b[39;00m x \u001b[39min\u001b[39;00m \u001b[39mrange\u001b[39m(\u001b[39m0\u001b[39m,image\u001b[39m.\u001b[39mshape[\u001b[39m1\u001b[39m],stepSize):\n\u001b[1;32m---> 22\u001b[0m         \u001b[39myield\u001b[39;00m(x,y,image[y:y\u001b[39m+\u001b[39;49mwindowSize[\u001b[39m1\u001b[39;49m],x\u001b[39m+\u001b[39;49mx \u001b[39m+\u001b[39;49m windowSize[\u001b[39m0\u001b[39;49m]])\n",
      "\u001b[1;31mIndexError\u001b[0m: index 512 is out of bounds for axis 1 with size 500"
     ]
    }
   ],
   "source": [
    "import cv2\n",
    "import time\n",
    "import imutils\n",
    "\n",
    "def pyramid(image,scale=1.5,minSize=(30,30)):\n",
    "    yield image\n",
    "\n",
    "    while True:\n",
    "\n",
    "        w=int(image.shape[1]/scale)\n",
    "\n",
    "        image = imutils.resize(image,width=w)\n",
    "\n",
    "        if image.shape[0] < minSize[1] or image.shape[1] < minSize[0]:\n",
    "            break\n",
    "\n",
    "        yield image\n",
    "\n",
    "def sliding_window(image,stepSize,windowSize):\n",
    "    for y in range(0,image.shape[0],stepSize):\n",
    "        for x in range(0,image.shape[1],stepSize):\n",
    "            yield(x,y,image[y:y+windowSize[1],x+x + windowSize[0]])\n",
    "\n",
    "image = cv2.imread(\"./p14937.png\")\n",
    "\n",
    "(winW,winH) = (128,128)\n",
    "\n",
    "for resized in pyramid(image,scale=1.5):\n",
    "    for(x,y,window) in sliding_window(resized,stepSize=32,windowSize=(winW,winH)):\n",
    "        if window.shape[0] != winH or window.shape[1] != winW:\n",
    "            continue\n",
    "        clone = resized.copy()\n",
    "\n",
    "        cv2.rectangle(clone,(x,y),(x+winW,y+winH),(0,255,0),2)\n",
    "\n",
    "        cv2.imshow(\"Window\",clone)\n",
    "\n",
    "        cv2.waitKey(1)\n",
    "\n",
    "        time.sleep(0.025)\n",
    "\n",
    "cv2.destroyAllWindows()"
   ]
  },
  {
   "cell_type": "code",
   "execution_count": null,
   "metadata": {},
   "outputs": [],
   "source": []
  }
 ],
 "metadata": {
  "kernelspec": {
   "display_name": "Python 3",
   "language": "python",
   "name": "python3"
  },
  "language_info": {
   "codemirror_mode": {
    "name": "ipython",
    "version": 3
   },
   "file_extension": ".py",
   "mimetype": "text/x-python",
   "name": "python",
   "nbconvert_exporter": "python",
   "pygments_lexer": "ipython3",
   "version": "3.11.3"
  },
  "orig_nbformat": 4
 },
 "nbformat": 4,
 "nbformat_minor": 2
}
